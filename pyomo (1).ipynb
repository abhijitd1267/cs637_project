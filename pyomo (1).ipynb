{
  "nbformat": 4,
  "nbformat_minor": 0,
  "metadata": {
    "colab": {
      "provenance": [],
      "toc_visible": true
    },
    "kernelspec": {
      "name": "python3",
      "display_name": "Python 3"
    },
    "language_info": {
      "name": "python"
    }
  },
  "cells": [
    {
      "cell_type": "code",
      "source": [
        "!pip install pyomo\n"
      ],
      "metadata": {
        "colab": {
          "base_uri": "https://localhost:8080/"
        },
        "id": "WOAKrXRYamRL",
        "outputId": "429987dc-b757-45e2-c234-21f91de8daee"
      },
      "execution_count": null,
      "outputs": [
        {
          "output_type": "stream",
          "name": "stdout",
          "text": [
            "Collecting pyomo\n",
            "  Downloading Pyomo-6.8.0-cp310-cp310-manylinux_2_17_x86_64.manylinux2014_x86_64.whl.metadata (8.0 kB)\n",
            "Collecting ply (from pyomo)\n",
            "  Downloading ply-3.11-py2.py3-none-any.whl.metadata (844 bytes)\n",
            "Downloading Pyomo-6.8.0-cp310-cp310-manylinux_2_17_x86_64.manylinux2014_x86_64.whl (13.3 MB)\n",
            "\u001b[2K   \u001b[90m━━━━━━━━━━━━━━━━━━━━━━━━━━━━━━━━━━━━━━━━\u001b[0m \u001b[32m13.3/13.3 MB\u001b[0m \u001b[31m35.2 MB/s\u001b[0m eta \u001b[36m0:00:00\u001b[0m\n",
            "\u001b[?25hDownloading ply-3.11-py2.py3-none-any.whl (49 kB)\n",
            "\u001b[2K   \u001b[90m━━━━━━━━━━━━━━━━━━━━━━━━━━━━━━━━━━━━━━━━\u001b[0m \u001b[32m49.6/49.6 kB\u001b[0m \u001b[31m1.6 MB/s\u001b[0m eta \u001b[36m0:00:00\u001b[0m\n",
            "\u001b[?25hInstalling collected packages: ply, pyomo\n",
            "Successfully installed ply-3.11 pyomo-6.8.0\n"
          ]
        }
      ]
    },
    {
      "cell_type": "code",
      "source": [
        "!apt-get install -y coinor-cbc\n"
      ],
      "metadata": {
        "colab": {
          "base_uri": "https://localhost:8080/"
        },
        "id": "1lZ0MaOAax-g",
        "outputId": "6ed6f689-849b-4893-f43c-aa72e1b21704"
      },
      "execution_count": null,
      "outputs": [
        {
          "output_type": "stream",
          "name": "stdout",
          "text": [
            "Reading package lists... Done\n",
            "Building dependency tree... Done\n",
            "Reading state information... Done\n",
            "The following additional packages will be installed:\n",
            "  coinor-libcbc3 coinor-libcgl1 coinor-libclp1 coinor-libcoinutils3v5 coinor-libosi1v5\n",
            "The following NEW packages will be installed:\n",
            "  coinor-cbc coinor-libcbc3 coinor-libcgl1 coinor-libclp1 coinor-libcoinutils3v5 coinor-libosi1v5\n",
            "0 upgraded, 6 newly installed, 0 to remove and 49 not upgraded.\n",
            "Need to get 2,908 kB of archives.\n",
            "After this operation, 8,310 kB of additional disk space will be used.\n",
            "Get:1 http://archive.ubuntu.com/ubuntu jammy/universe amd64 coinor-libcoinutils3v5 amd64 2.11.4+repack1-2 [465 kB]\n",
            "Get:2 http://archive.ubuntu.com/ubuntu jammy/universe amd64 coinor-libosi1v5 amd64 0.108.6+repack1-2 [275 kB]\n",
            "Get:3 http://archive.ubuntu.com/ubuntu jammy/universe amd64 coinor-libclp1 amd64 1.17.5+repack1-1 [937 kB]\n",
            "Get:4 http://archive.ubuntu.com/ubuntu jammy/universe amd64 coinor-libcgl1 amd64 0.60.3+repack1-3 [420 kB]\n",
            "Get:5 http://archive.ubuntu.com/ubuntu jammy/universe amd64 coinor-libcbc3 amd64 2.10.7+ds1-1 [799 kB]\n",
            "Get:6 http://archive.ubuntu.com/ubuntu jammy/universe amd64 coinor-cbc amd64 2.10.7+ds1-1 [11.6 kB]\n",
            "Fetched 2,908 kB in 1s (2,244 kB/s)\n",
            "Selecting previously unselected package coinor-libcoinutils3v5:amd64.\n",
            "(Reading database ... 123623 files and directories currently installed.)\n",
            "Preparing to unpack .../0-coinor-libcoinutils3v5_2.11.4+repack1-2_amd64.deb ...\n",
            "Unpacking coinor-libcoinutils3v5:amd64 (2.11.4+repack1-2) ...\n",
            "Selecting previously unselected package coinor-libosi1v5:amd64.\n",
            "Preparing to unpack .../1-coinor-libosi1v5_0.108.6+repack1-2_amd64.deb ...\n",
            "Unpacking coinor-libosi1v5:amd64 (0.108.6+repack1-2) ...\n",
            "Selecting previously unselected package coinor-libclp1.\n",
            "Preparing to unpack .../2-coinor-libclp1_1.17.5+repack1-1_amd64.deb ...\n",
            "Unpacking coinor-libclp1 (1.17.5+repack1-1) ...\n",
            "Selecting previously unselected package coinor-libcgl1:amd64.\n",
            "Preparing to unpack .../3-coinor-libcgl1_0.60.3+repack1-3_amd64.deb ...\n",
            "Unpacking coinor-libcgl1:amd64 (0.60.3+repack1-3) ...\n",
            "Selecting previously unselected package coinor-libcbc3:amd64.\n",
            "Preparing to unpack .../4-coinor-libcbc3_2.10.7+ds1-1_amd64.deb ...\n",
            "Unpacking coinor-libcbc3:amd64 (2.10.7+ds1-1) ...\n",
            "Selecting previously unselected package coinor-cbc.\n",
            "Preparing to unpack .../5-coinor-cbc_2.10.7+ds1-1_amd64.deb ...\n",
            "Unpacking coinor-cbc (2.10.7+ds1-1) ...\n",
            "Setting up coinor-libcoinutils3v5:amd64 (2.11.4+repack1-2) ...\n",
            "Setting up coinor-libosi1v5:amd64 (0.108.6+repack1-2) ...\n",
            "Setting up coinor-libclp1 (1.17.5+repack1-1) ...\n",
            "Setting up coinor-libcgl1:amd64 (0.60.3+repack1-3) ...\n",
            "Setting up coinor-libcbc3:amd64 (2.10.7+ds1-1) ...\n",
            "Setting up coinor-cbc (2.10.7+ds1-1) ...\n",
            "Processing triggers for man-db (2.10.2-1) ...\n",
            "Processing triggers for libc-bin (2.35-0ubuntu3.4) ...\n",
            "/sbin/ldconfig.real: /usr/local/lib/libtbbbind_2_5.so.3 is not a symbolic link\n",
            "\n",
            "/sbin/ldconfig.real: /usr/local/lib/libtbb.so.12 is not a symbolic link\n",
            "\n",
            "/sbin/ldconfig.real: /usr/local/lib/libtcm.so.1 is not a symbolic link\n",
            "\n",
            "/sbin/ldconfig.real: /usr/local/lib/libtbbmalloc.so.2 is not a symbolic link\n",
            "\n",
            "/sbin/ldconfig.real: /usr/local/lib/libtbbmalloc_proxy.so.2 is not a symbolic link\n",
            "\n",
            "/sbin/ldconfig.real: /usr/local/lib/libur_loader.so.0 is not a symbolic link\n",
            "\n",
            "/sbin/ldconfig.real: /usr/local/lib/libtcm_debug.so.1 is not a symbolic link\n",
            "\n",
            "/sbin/ldconfig.real: /usr/local/lib/libur_adapter_opencl.so.0 is not a symbolic link\n",
            "\n",
            "/sbin/ldconfig.real: /usr/local/lib/libtbbbind.so.3 is not a symbolic link\n",
            "\n",
            "/sbin/ldconfig.real: /usr/local/lib/libhwloc.so.15 is not a symbolic link\n",
            "\n",
            "/sbin/ldconfig.real: /usr/local/lib/libumf.so.0 is not a symbolic link\n",
            "\n",
            "/sbin/ldconfig.real: /usr/local/lib/libtbbbind_2_0.so.3 is not a symbolic link\n",
            "\n",
            "/sbin/ldconfig.real: /usr/local/lib/libur_adapter_level_zero.so.0 is not a symbolic link\n",
            "\n"
          ]
        }
      ]
    },
    {
      "cell_type": "code",
      "source": [
        "from pygments import highlight\n",
        "from pygments.lexers import ScalaLexer\n",
        "from pygments.formatters import HtmlFormatter\n",
        "\n",
        "# Define file paths\n",
        "input_file_path = \"/content/SinglePendulumNN.scala\"\n",
        "output_file_path = \"/content/Extracted_SinglePendulumNN.html\"\n",
        "\n",
        "# Read the content of the Scala file\n",
        "with open(input_file_path, \"r\") as input_file:\n",
        "    content = input_file.read()\n",
        "\n",
        "# Highlight the Scala code in HTML format\n",
        "formatter = HtmlFormatter(full=True, linenos=True, style=\"colorful\")\n",
        "highlighted_code = highlight(content, ScalaLexer(), formatter)\n",
        "\n",
        "# Write the highlighted code to an HTML file\n",
        "with open(output_file_path, \"w\") as output_file:\n",
        "    output_file.write(highlighted_code)\n",
        "\n",
        "output_file_path  # Path to the generated HTML file\n"
      ],
      "metadata": {
        "colab": {
          "base_uri": "https://localhost:8080/",
          "height": 35
        },
        "id": "GVLhyaC1rK5r",
        "outputId": "bf8edab5-a0fc-4927-c4e1-b0a3eb9a9f06"
      },
      "execution_count": null,
      "outputs": [
        {
          "output_type": "execute_result",
          "data": {
            "text/plain": [
              "'/content/Extracted_SinglePendulumNN.html'"
            ],
            "application/vnd.google.colaboratory.intrinsic+json": {
              "type": "string"
            }
          },
          "metadata": {},
          "execution_count": 6
        }
      ]
    },
    {
      "cell_type": "code",
      "source": [
        "!pip install beautifulsoup4\n"
      ],
      "metadata": {
        "colab": {
          "base_uri": "https://localhost:8080/"
        },
        "id": "o1KaIs2jsFci",
        "outputId": "f5e9d6fc-8194-4a46-b5d2-01714ca3923e"
      },
      "execution_count": null,
      "outputs": [
        {
          "output_type": "stream",
          "name": "stdout",
          "text": [
            "Requirement already satisfied: beautifulsoup4 in /usr/local/lib/python3.10/dist-packages (4.12.3)\n",
            "Requirement already satisfied: soupsieve>1.2 in /usr/local/lib/python3.10/dist-packages (from beautifulsoup4) (2.6)\n"
          ]
        }
      ]
    },
    {
      "cell_type": "code",
      "source": [
        "import re\n",
        "import numpy as np\n",
        "from pyomo.environ import *\n",
        "from bs4 import BeautifulSoup\n",
        "\n",
        "# Load HTML file content\n",
        "def load_html_file(file_path):\n",
        "    with open(file_path, 'r', encoding=\"utf-8\") as file:\n",
        "        html_content = file.read()\n",
        "    return html_content\n",
        "\n",
        "# Parse HTML file to extract weights\n",
        "def parse_weights_from_html(html_content):\n",
        "    soup = BeautifulSoup(html_content, 'html.parser')\n",
        "    # Example: assume weights are in <pre> tags or similar structure\n",
        "    weight_matrices = soup.find_all('pre')  # Adjust based on the actual HTML structure\n",
        "    parsed_weights = []\n",
        "\n",
        "    for matrix in weight_matrices:\n",
        "        rows = re.findall(r\"List\\((.*?)\\)\", matrix.get_text())\n",
        "\n",
        "        if not rows:\n",
        "            print(\"Warning: Found an empty or malformed matrix. Skipping...\")\n",
        "            continue\n",
        "\n",
        "        try:\n",
        "            parsed_matrix = [[float(value) for value in row.split(',')] for row in rows]\n",
        "            parsed_weights.append(parsed_matrix)\n",
        "        except ValueError:\n",
        "            print(\"Warning: Failed to parse a matrix due to non-numeric values. Skipping...\")\n",
        "\n",
        "    # Ensure all matrices are of consistent shape\n",
        "    validated_weights = []\n",
        "    for matrix in parsed_weights:\n",
        "        row_lengths = {len(row) for row in matrix}\n",
        "        if len(row_lengths) == 1:  # All rows have the same length\n",
        "            validated_weights.append(matrix)\n",
        "        else:\n",
        "            print(\"Warning: Inconsistent row lengths in matrix. Skipping this matrix.\")\n",
        "\n",
        "    return validated_weights\n",
        "\n",
        "# Quantize weights with Pyomo MILP\n",
        "def quantize_weights_with_pyomo(weights, error_bound=0.01, min_frac_bits=5, max_frac_bits=32):\n",
        "    num_layers = len(weights)\n",
        "    model = ConcreteModel()\n",
        "\n",
        "    # Define binary variables for each possible bit width for each layer\n",
        "    possible_bits = list(range(min_frac_bits, max_frac_bits + 1))\n",
        "    model.frac_bits = Var(range(num_layers), within=Integers, bounds=(min_frac_bits, max_frac_bits))\n",
        "    model.select_bits = Var(range(num_layers), possible_bits, within=Binary)\n",
        "    model.quant_errors = Var(range(num_layers), within=NonNegativeReals)\n",
        "\n",
        "    # Objective: Minimize the sum of fractional bits across all layers\n",
        "    model.objective = Objective(expr=sum(model.frac_bits[i] for i in range(num_layers)), sense=minimize)\n",
        "\n",
        "    # Constraints for selecting fractional bits\n",
        "    for i in range(num_layers):\n",
        "        # Ensure only one fractional bit choice is active per layer\n",
        "        model.add_component(f\"one_bit_choice_{i}\", Constraint(expr=sum(model.select_bits[i, b] for b in possible_bits) == 1))\n",
        "\n",
        "        # Link fractional bit choice to the fractional bits variable\n",
        "        model.add_component(f\"frac_bit_value_{i}\", Constraint(\n",
        "            expr=model.frac_bits[i] == sum(b * model.select_bits[i, b] for b in possible_bits)\n",
        "        ))\n",
        "\n",
        "        # Define quantization error as 1 / (2 ** frac_bits) for each layer\n",
        "        model.add_component(f\"quant_error_bound_{i}\", Constraint(\n",
        "            expr=model.quant_errors[i] <= error_bound\n",
        "        ))\n",
        "        model.add_component(f\"error_constraint_{i}\", Constraint(\n",
        "            expr=model.quant_errors[i] <= sum((1 / (2 ** b)) * model.select_bits[i, b] for b in possible_bits)\n",
        "        ))\n",
        "\n",
        "    # Solve the model\n",
        "    solver = SolverFactory('cbc')\n",
        "    solver.solve(model)\n",
        "\n",
        "    # Retrieve optimized fractional bits and quantized weights\n",
        "    optimized_bits = [int(model.frac_bits[i].value) for i in range(num_layers)]\n",
        "    quantized_weights = []\n",
        "\n",
        "    for i, weight_matrix in enumerate(weights):\n",
        "        frac_bits = optimized_bits[i]\n",
        "        scale_factor = 2 ** frac_bits\n",
        "        quantized_layer = np.round(np.array(weight_matrix) * scale_factor) / scale_factor\n",
        "        quantized_weights.append(quantized_layer.tolist())\n",
        "\n",
        "    return optimized_bits, quantized_weights\n",
        "\n",
        "# Generate C++ code\n",
        "def generate_cpp_code(optimized_bits, quantized_weights):\n",
        "    cpp_code = \"#include <iostream>\\n#include <vector>\\n\\n\"\n",
        "    cpp_code += \"class QuantizedNeuralNetwork {\\npublic:\\n\"\n",
        "\n",
        "    for i, weights in enumerate(quantized_weights):\n",
        "        cpp_code += f\"    // Layer {i+1} weights\\n\"\n",
        "        cpp_code += f\"    std::vector<std::vector<float>> weights_{i+1} = {{\\n\"\n",
        "\n",
        "        for row in weights:\n",
        "            cpp_code += \"        { \" + \", \".join(f\"{value:.6f}f\" for value in row) + \" },\\n\"\n",
        "\n",
        "        cpp_code += \"    };\\n\\n\"\n",
        "\n",
        "    cpp_code += \"    void forward(const std::vector<float>& input) {\\n\"\n",
        "    cpp_code += \"        // Add forward pass logic here\\n\"\n",
        "    cpp_code += \"    }\\n};\\n\\n\"\n",
        "\n",
        "    cpp_code += \"int main() {\\n\"\n",
        "    cpp_code += \"    QuantizedNeuralNetwork nn;\\n\"\n",
        "    cpp_code += \"    // Example input and forward call\\n\"\n",
        "    cpp_code += \"    std::vector<float> input = { /* input values */ };\\n\"\n",
        "    cpp_code += \"    nn.forward(input);\\n\"\n",
        "    cpp_code += \"    return 0;\\n}\\n\"\n",
        "\n",
        "    return cpp_code\n",
        "\n",
        "# Main function to convert HTML NN to quantized C++ NN\n",
        "def html_to_quantized_cpp(file_path):\n",
        "    # Step 1: Load and parse HTML file\n",
        "    html_content = load_html_file(file_path)\n",
        "    parsed_weights = parse_weights_from_html(html_content)\n",
        "\n",
        "    # Step 2: Quantize weights\n",
        "    optimized_bits, quantized_weights = quantize_weights_with_pyomo(parsed_weights)\n",
        "\n",
        "    # Step 3: Generate C++ code\n",
        "    cpp_code = generate_cpp_code(optimized_bits, quantized_weights)\n",
        "    return cpp_code\n",
        "\n",
        "# File path to your HTML neural network file\n",
        "file_path = '/content/Extracted_SinglePendulumNN.html'  # Replace with actual path\n",
        "cpp_code = html_to_quantized_cpp(file_path)\n",
        "\n",
        "# Save to a C++ file\n",
        "with open('QuantizedNeuralNetwork.cpp', 'w') as cpp_file:\n",
        "    cpp_file.write(cpp_code)\n",
        "\n",
        "print(\"Quantized C++ code has been saved to QuantizedNeuralNetwork.cpp.\")\n"
      ],
      "metadata": {
        "colab": {
          "base_uri": "https://localhost:8080/"
        },
        "id": "k40g2Adsrfml",
        "outputId": "798ca91b-ffc3-4a8d-911c-18e942ddc5c3"
      },
      "execution_count": null,
      "outputs": [
        {
          "output_type": "stream",
          "name": "stdout",
          "text": [
            "Warning: Found an empty or malformed matrix. Skipping...\n",
            "Warning: Inconsistent row lengths in matrix. Skipping this matrix.\n",
            "Quantized C++ code has been saved to QuantizedNeuralNetwork.cpp.\n"
          ]
        }
      ]
    },
    {
      "cell_type": "code",
      "source": [],
      "metadata": {
        "id": "6BXsDE8ezeSb"
      },
      "execution_count": null,
      "outputs": []
    },
    {
      "cell_type": "code",
      "source": [],
      "metadata": {
        "colab": {
          "base_uri": "https://localhost:8080/"
        },
        "id": "rqwkHOiHt2vc",
        "outputId": "c435ae6a-0891-432c-f904-0c66cf45449f"
      },
      "execution_count": null,
      "outputs": [
        {
          "output_type": "stream",
          "name": "stdout",
          "text": [
            "Error: Quantized output is empty. Check the C++ executable output.\n",
            "Quantized output is unavailable for comparison.\n"
          ]
        }
      ]
    }
  ]
}